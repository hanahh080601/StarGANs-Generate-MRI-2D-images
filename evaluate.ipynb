{
 "cells": [
  {
   "cell_type": "code",
   "execution_count": 1,
   "metadata": {},
   "outputs": [],
   "source": [
    "import torch\n",
    "import torch.nn as nn\n",
    "from torch.utils.data import DataLoader, Dataset\n",
    "from torchvision import transforms as T\n",
    "from torchvision.utils import save_image\n",
    "from torch.autograd import Variable\n",
    "import os\n",
    "import numpy as np\n",
    "from PIL import Image\n",
    "import matplotlib.pyplot as plt\n",
    "import matplotlib.image as mpimg\n",
    "import nibabel as nib\n",
    "import glob\n",
    "import random\n",
    "import argparse\n",
    "import torch.backends.cudnn as cudnn\n",
    "import torch.nn.functional as F\n",
    "import torch.optim as optim\n",
    "\n",
    "from model import Generator\n",
    "from dataset import BratDataset\n",
    "import cv2"
   ]
  },
  {
   "cell_type": "code",
   "execution_count": 2,
   "metadata": {},
   "outputs": [],
   "source": [
    "transform = []\n",
    "\n",
    "transform.append(T.ToTensor())\n",
    "transform.append(T.Resize(256))\n",
    "transform.append(T.Normalize(mean=(0.5, 0.5, 0.5), std=(0.5, 0.5, 0.5)))\n",
    "transform = T.Compose(transform)\n",
    "\n",
    "dataset = BratDataset('/home/bap/Downloads/BraTS2020_image_2D/image_2D/test', source_format='flair', transform=transform)\n",
    "data_loader = DataLoader(dataset=dataset, batch_size=1, shuffle=True, num_workers=1)"
   ]
  },
  {
   "cell_type": "code",
   "execution_count": 14,
   "metadata": {},
   "outputs": [],
   "source": [
    "def label2onehot(labels, dim):\n",
    "    \"\"\"Convert label indices to one-hot vectors.\"\"\"\n",
    "    batch_size = labels.size(0)\n",
    "    out = torch.zeros(batch_size, dim)\n",
    "    out[np.arange(batch_size), labels.long()] = 1\n",
    "    return out\n",
    "\n",
    "def create_labels(c_org, c_dim=4):\n",
    "    \"\"\"Generate target domain labels for debugging and testing.\"\"\"\n",
    "    c_trg_list = []\n",
    "    for i in range(c_dim):\n",
    "        c_trg = label2onehot(torch.ones(c_org.size(0))*i, c_dim)\n",
    "        c_trg_list.append(c_trg.to('cuda'))\n",
    "    return c_trg_list\n",
    "\n",
    "def denorm(x):\n",
    "    \"\"\"Convert the range from [-1, 1] to [0, 1].\"\"\"\n",
    "    out = (x + 1) / 2\n",
    "    return out.clamp_(0, 1)\n"
   ]
  },
  {
   "cell_type": "code",
   "execution_count": 54,
   "metadata": {},
   "outputs": [
    {
     "data": {
      "text/plain": [
       "<All keys matched successfully>"
      ]
     },
     "execution_count": 54,
     "metadata": {},
     "output_type": "execute_result"
    }
   ],
   "source": [
    "generator = Generator(64, 4, 6)\n",
    "generator.load_state_dict(torch.load('/home/bap/Code/StarGANs---Generate-MRI-2D-images-master/stargan_brats2020/models/180000-G.ckpt', map_location=lambda storage, loc: storage))"
   ]
  },
  {
   "cell_type": "code",
   "execution_count": 17,
   "metadata": {},
   "outputs": [],
   "source": [
    "# from data_loader import get_loader\n",
    "# old_trainloader = get_loader('/home/bap/Downloads/BraTS2020_image_2D/image_2D/test', image_size=256, batch_size=1, mode='test', num_workers=1)"
   ]
  },
  {
   "cell_type": "code",
   "execution_count": null,
   "metadata": {},
   "outputs": [],
   "source": [
    "# %matplotlib inline\n",
    "# generator.cuda()\n",
    "# item = next(iter(old_trainloader))\n",
    "# with torch.no_grad():\n",
    "#     fake = generator(item[0].cuda(), create_labels(torch.ones(16)*3, c_dim=4)[1].cuda())\n",
    "#     # print(fake)\n",
    "#     fake = (fake + 1) / 2\n",
    "#     fake = fake[0].clamp_(0, 1)\n",
    "#     save_image(fake, 'fake.png')\n",
    "#     # fake = fake.permute(1, 2, 0)\n",
    "#     # fake = fake.cpu().numpy()\n",
    "#     # cv2.imwrite('fake.png', fake*255)\n",
    "#     # plt.imshow(fake)"
   ]
  },
  {
   "cell_type": "code",
   "execution_count": 53,
   "metadata": {},
   "outputs": [],
   "source": [
    "# %matplotlib inline\n",
    "# generator.to('cuda')\n",
    "# # item = next(iter(old_trainloader))\n",
    "# with torch.no_grad():\n",
    "#     for i, (x_real, c_org) in enumerate(old_trainloader):\n",
    "#         c_trg_list = create_labels(c_org.cuda(), c_dim=4)\n",
    "#         x_fake_list = [x_real.cuda()]\n",
    "#         for c_trg in c_trg_list:\n",
    "#             # ind = 1\n",
    "#             x_fake_list.append(generator(x_real.cuda(), c_trg))\n",
    "#             # fake = generator(item['source'][0].cuda(), create_labels(item['source'][1].cuda(), c_dim=4)[ind+1].cuda()).data.cpu()\n",
    "#             # fake = (fake + 1) / 2\n",
    "#             # fake = fake.clamp_(0, 1)\n",
    "#             # save_image(fake, 'fake.png')\n",
    "#             # source = item['source'][0]\n",
    "#             # source = (source + 1) / 2\n",
    "#             # source = source.clamp_(0, 1)\n",
    "#             # save_image(source, 'source.png')\n",
    "#             # target = item['target'][ind][0]\n",
    "#             # target = (target + 1) / 2\n",
    "#             # target = target.clamp_(0, 1)\n",
    "#             # save_image(target, 'target.png')\n",
    "\n",
    "#         x_concat = torch.cat(x_fake_list, dim=3).data.cpu()\n",
    "#         x_concat = (x_concat + 1) / 2\n",
    "#         x_concat = x_concat.clamp_(0, 1)\n",
    "#         save_image(x_concat, f'fake_imgs/fake{i}.png')\n",
    "#         if i > 30:\n",
    "#             break"
   ]
  },
  {
   "cell_type": "code",
   "execution_count": 81,
   "metadata": {},
   "outputs": [],
   "source": [
    "%matplotlib inline\n",
    "generator.to('cuda')\n",
    "with torch.no_grad():\n",
    "    for i, data in enumerate(data_loader):\n",
    "        (x_real, c_org, path) = data['source']\n",
    "        c_trg_list = create_labels(c_org.cuda(), c_dim=4)\n",
    "        x_fake_list = []#[x_real.cuda()]\n",
    "        target_list = [x_real]\n",
    "        for j, c_trg in enumerate(c_trg_list):\n",
    "            # if j != 3:\n",
    "            #     continue\n",
    "            # fake = generator(x_real.cuda(), c_trg)\n",
    "            # fake = (fake + 1) / 2\n",
    "            # fake = fake.clamp_(0, 1).detach().cpu()\n",
    "            x_fake_list.append(generator(x_real.cuda(), c_trg))\n",
    "            if j != 0:\n",
    "                target = data['target'][j-1][0]\n",
    "                # target = (target + 1) / 2\n",
    "                # target = target.clamp_(0, 1)\n",
    "                target_list.append(target)\n",
    "            # print(torch.sum(fake - target))\n",
    "            # save_image(fake, 'fake.png')\n",
    "            # save_image(target, 'target.png')\n",
    "            # source = item['source'][0]\n",
    "            # source = (source + 1) / 2\n",
    "            # source = source.clamp_(0, 1)\n",
    "            # save_image(source, 'source.png')\n",
    "            # target = item['target'][ind][0]\n",
    "            # target = (target + 1) / 2\n",
    "            # target = target.clamp_(0, 1)\n",
    "            # save_image(target, 'target.png')\n",
    "        #     break\n",
    "        # break\n",
    "\n",
    "        x_concat = torch.cat(x_fake_list, dim=3).data.cpu()\n",
    "        x_concat = torch.cat([x_concat, torch.cat(target_list, dim=3).data.cpu()], dim=2)\n",
    "        x_concat = (x_concat + 1) / 2\n",
    "        x_concat = x_concat.clamp_(0, 1)\n",
    "        save_image(x_concat, f'fake_imgs/fake{i}.png')\n",
    "        if i > 30:\n",
    "            break"
   ]
  },
  {
   "cell_type": "code",
   "execution_count": 52,
   "metadata": {},
   "outputs": [],
   "source": [
    "# %matplotlib inline\n",
    "# generator.eval()\n",
    "# generator.cuda()\n",
    "# item = next(iter(old_trainloader))\n",
    "# with torch.no_grad():\n",
    "#     c_trg_list = create_labels(item[1].cuda(), c_dim=4)\n",
    "#     x_fake_list = [item[0]]\n",
    "#     for c_trg in c_trg_list:\n",
    "#         # ind = 1\n",
    "#         x_fake_list.append(generator(item[0].cuda(), c_trg).detach().cpu())\n",
    "#         # fake = generator(item['source'][0].cuda(), create_labels(item['source'][1].cuda(), c_dim=4)[ind+1].cuda()).data.cpu()\n",
    "#         # fake = (fake + 1) / 2\n",
    "#         # fake = fake.clamp_(0, 1)\n",
    "#         # save_image(fake, 'fake.png')\n",
    "#         # source = item['source'][0]\n",
    "#         # source = (source + 1) / 2\n",
    "#         # source = source.clamp_(0, 1)\n",
    "#         # save_image(source, 'source.png')\n",
    "#         # target = item['target'][ind][0]\n",
    "#         # target = (target + 1) / 2\n",
    "#         # target = target.clamp_(0, 1)\n",
    "#         # save_image(target, 'target.png')\n",
    "\n",
    "#     x_concat = torch.cat(x_fake_list, dim=3).data.cpu()\n",
    "#     x_concat = (x_concat + 1) / 2\n",
    "#     x_concat = x_concat.clamp_(0, 1)\n",
    "#     save_image(x_concat, 'fake.png', nrow=1, padding=0)"
   ]
  },
  {
   "cell_type": "code",
   "execution_count": 47,
   "metadata": {},
   "outputs": [
    {
     "name": "stdout",
     "output_type": "stream",
     "text": [
      "torch.Size([1, 3, 256, 256])\n",
      "tensor([0])\n",
      "tensor(-168382.7500)\n"
     ]
    }
   ],
   "source": [
    "# %matplotlib inline\n",
    "# generator.eval()\n",
    "# generator.cuda()\n",
    "# item = next(iter(data_loader))\n",
    "# with torch.no_grad():\n",
    "#     print(item['source'][0].shape)\n",
    "#     print(item['source'][1])\n",
    "#     print(torch.sum(item['source'][0]))\n",
    "#     c_trg_list = create_labels(item['source'][1].cuda(), c_dim=4)\n",
    "#     x_fake_list = [item['source'][0]]\n",
    "#     for c_trg in c_trg_list:\n",
    "#         # ind = 1\n",
    "#         x_fake_list.append(generator(item['source'][0].cuda(), c_trg).detach().cpu())\n",
    "#         # fake = generator(item['source'][0].cuda(), create_labels(item['source'][1].cuda(), c_dim=4)[ind+1].cuda()).data.cpu()\n",
    "#         # fake = (fake + 1) / 2\n",
    "#         # fake = fake.clamp_(0, 1)\n",
    "#         # save_image(fake, 'fake.png')\n",
    "#         # source = item['source'][0]\n",
    "#         # source = (source + 1) / 2\n",
    "#         # source = source.clamp_(0, 1)\n",
    "#         # save_image(source, 'source.png')\n",
    "#         # target = item['target'][ind][0]\n",
    "#         # target = (target + 1) / 2\n",
    "#         # target = target.clamp_(0, 1)\n",
    "#         # save_image(target, 'target.png')\n",
    "\n",
    "#     x_concat = torch.cat(x_fake_list, dim=3).data.cpu()\n",
    "#     x_concat = (x_concat + 1) / 2\n",
    "#     x_concat = x_concat.clamp_(0, 1)\n",
    "#     save_image(x_concat, 'fake.png', nrow=1, padding=0)"
   ]
  }
 ],
 "metadata": {
  "kernelspec": {
   "display_name": "base",
   "language": "python",
   "name": "python3"
  },
  "language_info": {
   "codemirror_mode": {
    "name": "ipython",
    "version": 3
   },
   "file_extension": ".py",
   "mimetype": "text/x-python",
   "name": "python",
   "nbconvert_exporter": "python",
   "pygments_lexer": "ipython3",
   "version": "3.9.13"
  },
  "orig_nbformat": 4,
  "vscode": {
   "interpreter": {
    "hash": "a2f76ae0342d0d8e138d7b9f01e688e783adfb67c5401e5fbe0947b36ee06d4a"
   }
  }
 },
 "nbformat": 4,
 "nbformat_minor": 2
}
